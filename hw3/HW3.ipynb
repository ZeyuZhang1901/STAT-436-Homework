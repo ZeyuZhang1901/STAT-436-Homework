{
 "cells": [
  {
   "cell_type": "markdown",
   "metadata": {},
   "source": [
    "# STAT435 - HW2\n",
    "\n",
    "### Instructor: Professor Bradly Stadie\n",
    "### Due Date: Oct 21, Monday\n",
    "### Office Hour (Young): Wednesday 1:30-2:30pm\n",
    "\n",
    "In this homework, we will explore several policy gradient methods in multiple different environments. Also, there are two parts in this homework (Application and Theory). For application part, you will be doing some fun coding. For theory part, you will be doing some fun math to get some more flavor :D"
   ]
  },
  {
   "cell_type": "markdown",
   "metadata": {},
   "source": [
    "## Application"
   ]
  },
  {
   "cell_type": "markdown",
   "metadata": {},
   "source": [
    "## 1. Vanilla Policy Gradient\n",
    "\n",
    "In this homework, we will use Vanilla Policy Gradient (VPG, or sometimes REINFORCE) to solve the lunar lander environment. Please do the following."
   ]
  },
  {
   "cell_type": "code",
   "execution_count": 2,
   "metadata": {},
   "outputs": [],
   "source": [
    "import torch\n",
    "import torch.nn as nn\n",
    "import torch.optim as optim\n",
    "from torch.distributions import Categorical\n",
    "import numpy as np\n",
    "import gymnasium as gym\n",
    "import matplotlib.pyplot as plt\n",
    "from tqdm import tqdm"
   ]
  },
  {
   "cell_type": "markdown",
   "metadata": {},
   "source": [
    "1. Play around with the environment. Is there anything interesting about the environment?"
   ]
  },
  {
   "cell_type": "code",
   "execution_count": 11,
   "metadata": {},
   "outputs": [
    {
     "name": "stdout",
     "output_type": "stream",
     "text": [
      "8\n",
      "4\n",
      "Observation space: Box([ -2.5        -2.5       -10.        -10.         -6.2831855 -10.\n",
      "  -0.         -0.       ], [ 2.5        2.5       10.        10.         6.2831855 10.\n",
      "  1.         1.       ], (8,), float32)\n",
      "Action space: Discrete(4)\n",
      "Number of actions: 4\n",
      "Number of dimensions in observation space: 8\n"
     ]
    }
   ],
   "source": [
    "# Set up the environment\n",
    "env = gym.make(\"LunarLander-v3\")\n",
    "input_dim = env.observation_space.shape[0]\n",
    "output_dim = env.action_space.n\n",
    "print(input_dim)\n",
    "print(output_dim)\n",
    "\n",
    "# print out some essential information about the environment\n",
    "print(\"Observation space:\", env.observation_space)\n",
    "print(\"Action space:\", env.action_space)\n",
    "print(\"Number of actions:\", env.action_space.n)\n",
    "print(\"Number of dimensions in observation space:\", env.observation_space.shape[0])\n",
    "\n",
    "# more details can be found in link: https://gymnasium.farama.org/environments/box2d/lunar_lander/"
   ]
  },
  {
   "cell_type": "markdown",
   "metadata": {},
   "source": [
    "2. Implement a policy network with 3 layers with hidden size 128."
   ]
  },
  {
   "cell_type": "code",
   "execution_count": 9,
   "metadata": {},
   "outputs": [],
   "source": [
    "# Policy Network\n",
    "class PolicyNetwork(nn.Module):\n",
    "    def __init__(self, input_dim, output_dim):\n",
    "        super(PolicyNetwork, self).__init__()\n",
    "        self.layer1 = nn.Linear(input_dim, 128)\n",
    "        self.layer2 = nn.Linear(128, 128)\n",
    "        self.layer3 = nn.Linear(128, output_dim)\n",
    "        \n",
    "    def forward(self, x):\n",
    "        x = torch.relu(self.layer1(x))\n",
    "        x = torch.relu(self.layer2(x))\n",
    "        x = self.layer3(x)\n",
    "        return torch.softmax(x, dim=-1)  # Apply softmax to get probabilities"
   ]
  },
  {
   "cell_type": "markdown",
   "metadata": {},
   "source": [
    "3. Implement a REINFORCE agent (Fill in the blank!)"
   ]
  },
  {
   "cell_type": "code",
   "execution_count": 7,
   "metadata": {},
   "outputs": [],
   "source": [
    "# REINFORCE Agent\n",
    "class REINFORCEAgent:\n",
    "    def __init__(self, policy_network, learning_rate):\n",
    "        self.policy_network = policy_network\n",
    "        self.optimizer = optim.Adam(self.policy_network.parameters(), lr=learning_rate)\n",
    "        \n",
    "    def select_action(self, state):\n",
    "        state = torch.tensor(state, dtype=torch.float32)\n",
    "        probs = self.policy_network(state)\n",
    "        m = Categorical(probs)\n",
    "        action = m.sample()\n",
    "        return action.item(), m.log_prob(action)\n",
    "    \n",
    "    def update(self, rewards, log_probs):\n",
    "        returns = []\n",
    "        G = 0\n",
    "\n",
    "        for r in reversed(rewards): \n",
    "            G = r + G\n",
    "            returns.insert(0, G)\n",
    "        returns = torch.tensor(returns)\n",
    "        returns = (returns - returns.mean()) / (returns.std() + 1e-9)\n",
    "        \n",
    "        policy_loss = []\n",
    "        for log_prob, R in zip(log_probs, returns):\n",
    "            policy_loss.append(-log_prob * R)\n",
    "        \n",
    "        policy_loss = torch.stack(policy_loss).sum()\n",
    "        \n",
    "        self.optimizer.zero_grad()\n",
    "        policy_loss.backward()\n",
    "        self.optimizer.step()"
   ]
  },
  {
   "cell_type": "markdown",
   "metadata": {},
   "source": [
    "4. Complete the training loop (Fill in the blank!)\n",
    "\n",
    "(optional: You can also add the accumulated reward to see less noisy learning curve) "
   ]
  },
  {
   "cell_type": "code",
   "execution_count": 8,
   "metadata": {},
   "outputs": [],
   "source": [
    "# In the training loop:\n",
    "def train(num_episodes, max_steps):\n",
    "    policy_network = PolicyNetwork(input_dim, output_dim)\n",
    "    agent = REINFORCEAgent(policy_network, learning_rate=5e-4)\n",
    "    \n",
    "    episode_rewards = []\n",
    "    \n",
    "    for episode in tqdm(range(num_episodes)):\n",
    "        state, _ = env.reset()\n",
    "        episode_reward = 0\n",
    "        log_probs = []\n",
    "        rewards = []\n",
    "        \n",
    "        for step in range(max_steps):\n",
    "            action, log_prob = agent.select_action(state)\n",
    "            next_state, reward, done, truncated, _ = env.step(action)\n",
    "            \n",
    "            log_probs.append(log_prob)\n",
    "            rewards.append(reward)\n",
    "            episode_reward += reward\n",
    "            \n",
    "            if done or truncated:\n",
    "                break\n",
    "            \n",
    "            state = next_state\n",
    "        \n",
    "        episode_rewards.append(episode_reward)\n",
    "        agent.update(rewards, log_probs)\n",
    "        \n",
    "        if (episode + 1) % 100 == 0:\n",
    "            print(f\"Episode {episode + 1}, Average Reward: {np.mean(episode_rewards[-50:]):.2f}\")\n",
    "    \n",
    "    return agent, episode_rewards"
   ]
  },
  {
   "cell_type": "code",
   "execution_count": 9,
   "metadata": {},
   "outputs": [
    {
     "name": "stderr",
     "output_type": "stream",
     "text": [
      "  3%|▎         | 103/3000 [00:03<01:45, 27.58it/s]"
     ]
    },
    {
     "name": "stdout",
     "output_type": "stream",
     "text": [
      "Episode 100, Average Reward: -207.94\n"
     ]
    },
    {
     "name": "stderr",
     "output_type": "stream",
     "text": [
      "  7%|▋         | 204/3000 [00:07<01:45, 26.52it/s]"
     ]
    },
    {
     "name": "stdout",
     "output_type": "stream",
     "text": [
      "Episode 200, Average Reward: -151.37\n"
     ]
    },
    {
     "name": "stderr",
     "output_type": "stream",
     "text": [
      " 10%|█         | 303/3000 [00:11<01:57, 22.88it/s]"
     ]
    },
    {
     "name": "stdout",
     "output_type": "stream",
     "text": [
      "Episode 300, Average Reward: -149.95\n"
     ]
    },
    {
     "name": "stderr",
     "output_type": "stream",
     "text": [
      " 13%|█▎        | 401/3000 [00:15<01:42, 25.35it/s]"
     ]
    },
    {
     "name": "stdout",
     "output_type": "stream",
     "text": [
      "Episode 400, Average Reward: -106.35\n"
     ]
    },
    {
     "name": "stderr",
     "output_type": "stream",
     "text": [
      " 17%|█▋        | 502/3000 [00:20<02:03, 20.23it/s]"
     ]
    },
    {
     "name": "stdout",
     "output_type": "stream",
     "text": [
      "Episode 500, Average Reward: -105.38\n"
     ]
    },
    {
     "name": "stderr",
     "output_type": "stream",
     "text": [
      " 20%|██        | 603/3000 [00:26<02:34, 15.54it/s]"
     ]
    },
    {
     "name": "stdout",
     "output_type": "stream",
     "text": [
      "Episode 600, Average Reward: -85.58\n"
     ]
    },
    {
     "name": "stderr",
     "output_type": "stream",
     "text": [
      " 23%|██▎       | 702/3000 [00:32<03:02, 12.57it/s]"
     ]
    },
    {
     "name": "stdout",
     "output_type": "stream",
     "text": [
      "Episode 700, Average Reward: -58.86\n"
     ]
    },
    {
     "name": "stderr",
     "output_type": "stream",
     "text": [
      " 27%|██▋       | 801/3000 [00:42<03:36, 10.18it/s]"
     ]
    },
    {
     "name": "stdout",
     "output_type": "stream",
     "text": [
      "Episode 800, Average Reward: -79.96\n"
     ]
    },
    {
     "name": "stderr",
     "output_type": "stream",
     "text": [
      " 30%|███       | 900/3000 [00:58<04:08,  8.45it/s]"
     ]
    },
    {
     "name": "stdout",
     "output_type": "stream",
     "text": [
      "Episode 900, Average Reward: -110.92\n"
     ]
    },
    {
     "name": "stderr",
     "output_type": "stream",
     "text": [
      " 33%|███▎      | 1001/3000 [01:15<05:11,  6.42it/s]"
     ]
    },
    {
     "name": "stdout",
     "output_type": "stream",
     "text": [
      "Episode 1000, Average Reward: -141.95\n"
     ]
    },
    {
     "name": "stderr",
     "output_type": "stream",
     "text": [
      " 37%|███▋      | 1103/3000 [01:28<02:27, 12.89it/s]"
     ]
    },
    {
     "name": "stdout",
     "output_type": "stream",
     "text": [
      "Episode 1100, Average Reward: -111.92\n"
     ]
    },
    {
     "name": "stderr",
     "output_type": "stream",
     "text": [
      " 40%|████      | 1200/3000 [01:43<04:18,  6.97it/s]"
     ]
    },
    {
     "name": "stdout",
     "output_type": "stream",
     "text": [
      "Episode 1200, Average Reward: -122.82\n"
     ]
    },
    {
     "name": "stderr",
     "output_type": "stream",
     "text": [
      " 43%|████▎     | 1303/3000 [01:55<01:52, 15.10it/s]"
     ]
    },
    {
     "name": "stdout",
     "output_type": "stream",
     "text": [
      "Episode 1300, Average Reward: -49.83\n"
     ]
    },
    {
     "name": "stderr",
     "output_type": "stream",
     "text": [
      " 47%|████▋     | 1401/3000 [02:05<02:03, 12.95it/s]"
     ]
    },
    {
     "name": "stdout",
     "output_type": "stream",
     "text": [
      "Episode 1400, Average Reward: -4.81\n"
     ]
    },
    {
     "name": "stderr",
     "output_type": "stream",
     "text": [
      " 50%|████▉     | 1499/3000 [02:18<04:30,  5.56it/s]"
     ]
    },
    {
     "name": "stdout",
     "output_type": "stream",
     "text": [
      "Episode 1500, Average Reward: -37.22\n"
     ]
    },
    {
     "name": "stderr",
     "output_type": "stream",
     "text": [
      " 53%|█████▎    | 1601/3000 [02:32<03:13,  7.23it/s]"
     ]
    },
    {
     "name": "stdout",
     "output_type": "stream",
     "text": [
      "Episode 1600, Average Reward: 14.05\n"
     ]
    },
    {
     "name": "stderr",
     "output_type": "stream",
     "text": [
      " 57%|█████▋    | 1702/3000 [02:52<03:03,  7.08it/s]"
     ]
    },
    {
     "name": "stdout",
     "output_type": "stream",
     "text": [
      "Episode 1700, Average Reward: 4.27\n"
     ]
    },
    {
     "name": "stderr",
     "output_type": "stream",
     "text": [
      " 60%|██████    | 1801/3000 [03:07<02:24,  8.28it/s]"
     ]
    },
    {
     "name": "stdout",
     "output_type": "stream",
     "text": [
      "Episode 1800, Average Reward: -84.33\n"
     ]
    },
    {
     "name": "stderr",
     "output_type": "stream",
     "text": [
      " 63%|██████▎   | 1902/3000 [03:23<01:40, 10.91it/s]"
     ]
    },
    {
     "name": "stdout",
     "output_type": "stream",
     "text": [
      "Episode 1900, Average Reward: 42.65\n"
     ]
    },
    {
     "name": "stderr",
     "output_type": "stream",
     "text": [
      " 67%|██████▋   | 2001/3000 [03:37<02:05,  7.99it/s]"
     ]
    },
    {
     "name": "stdout",
     "output_type": "stream",
     "text": [
      "Episode 2000, Average Reward: 23.43\n"
     ]
    },
    {
     "name": "stderr",
     "output_type": "stream",
     "text": [
      " 70%|███████   | 2101/3000 [03:57<03:50,  3.90it/s]"
     ]
    },
    {
     "name": "stdout",
     "output_type": "stream",
     "text": [
      "Episode 2100, Average Reward: 51.34\n"
     ]
    },
    {
     "name": "stderr",
     "output_type": "stream",
     "text": [
      " 73%|███████▎  | 2201/3000 [04:19<02:16,  5.83it/s]"
     ]
    },
    {
     "name": "stdout",
     "output_type": "stream",
     "text": [
      "Episode 2200, Average Reward: 48.16\n"
     ]
    },
    {
     "name": "stderr",
     "output_type": "stream",
     "text": [
      " 77%|███████▋  | 2300/3000 [04:44<03:25,  3.41it/s]"
     ]
    },
    {
     "name": "stdout",
     "output_type": "stream",
     "text": [
      "Episode 2300, Average Reward: 54.15\n"
     ]
    },
    {
     "name": "stderr",
     "output_type": "stream",
     "text": [
      " 80%|████████  | 2401/3000 [05:08<01:19,  7.51it/s]"
     ]
    },
    {
     "name": "stdout",
     "output_type": "stream",
     "text": [
      "Episode 2400, Average Reward: 40.54\n"
     ]
    },
    {
     "name": "stderr",
     "output_type": "stream",
     "text": [
      " 83%|████████▎ | 2501/3000 [05:30<00:55,  9.00it/s]"
     ]
    },
    {
     "name": "stdout",
     "output_type": "stream",
     "text": [
      "Episode 2500, Average Reward: 21.21\n"
     ]
    },
    {
     "name": "stderr",
     "output_type": "stream",
     "text": [
      " 87%|████████▋ | 2600/3000 [05:46<02:12,  3.03it/s]"
     ]
    },
    {
     "name": "stdout",
     "output_type": "stream",
     "text": [
      "Episode 2600, Average Reward: 62.75\n"
     ]
    },
    {
     "name": "stderr",
     "output_type": "stream",
     "text": [
      " 90%|█████████ | 2700/3000 [06:11<01:17,  3.87it/s]"
     ]
    },
    {
     "name": "stdout",
     "output_type": "stream",
     "text": [
      "Episode 2700, Average Reward: 70.31\n"
     ]
    },
    {
     "name": "stderr",
     "output_type": "stream",
     "text": [
      " 93%|█████████▎| 2800/3000 [06:37<00:28,  7.05it/s]"
     ]
    },
    {
     "name": "stdout",
     "output_type": "stream",
     "text": [
      "Episode 2800, Average Reward: 54.55\n"
     ]
    },
    {
     "name": "stderr",
     "output_type": "stream",
     "text": [
      " 97%|█████████▋| 2900/3000 [14:50<07:44,  4.65s/it]  "
     ]
    },
    {
     "name": "stdout",
     "output_type": "stream",
     "text": [
      "Episode 2900, Average Reward: 60.55\n"
     ]
    },
    {
     "name": "stderr",
     "output_type": "stream",
     "text": [
      "100%|██████████| 3000/3000 [15:11<00:00,  3.29it/s]\n"
     ]
    },
    {
     "name": "stdout",
     "output_type": "stream",
     "text": [
      "Episode 3000, Average Reward: 135.83\n"
     ]
    },
    {
     "data": {
      "image/png": "[encoded data removed]",
      "text/plain": [
       "<Figure size 1000x500 with 1 Axes>"
      ]
     },
     "metadata": {},
     "output_type": "display_data"
    }
   ],
   "source": [
    "# Train the agent\n",
    "num_episodes = 3000\n",
    "max_steps = 1000\n",
    "trained_agent, episode_rewards = train(num_episodes, max_steps)\n",
    "\n",
    "# Plot learning curve\n",
    "plt.figure(figsize=(10, 5))\n",
    "plt.plot(episode_rewards)\n",
    "plt.title(\"Average reward of the last 50 steps\")\n",
    "plt.xlabel(\"Episode\")\n",
    "plt.ylabel(\"Total Reward\")\n",
    "plt.show()\n"
   ]
  },
  {
   "cell_type": "markdown",
   "metadata": {},
   "source": [
    "### Fun visualization! Do you think your agent does a good job?"
   ]
  },
  {
   "cell_type": "code",
   "execution_count": 25,
   "metadata": {},
   "outputs": [],
   "source": [
    "def visualize_policy(agent, num_episodes=5):\n",
    "    env = gym.make(\"LunarLander-v3\", render_mode = \"human\")\n",
    "    for episode in range(num_episodes):\n",
    "        state, _ = env.reset()\n",
    "        done = False\n",
    "        truncated = False\n",
    "        total_reward = 0\n",
    "        \n",
    "        while not (done or truncated):\n",
    "            action, _ = agent.select_action(state)\n",
    "            state, reward, done, truncated, _ = env.step(action)\n",
    "            total_reward += reward\n",
    "        \n",
    "        print(f\"Episode {episode + 1}, Total Reward: {total_reward:.2f}\")\n",
    "    \n",
    "    env.close() # close the environment after visualization\n",
    "    "
   ]
  },
  {
   "cell_type": "code",
   "execution_count": 11,
   "metadata": {},
   "outputs": [
    {
     "name": "stdout",
     "output_type": "stream",
     "text": [
      "Episode 1, Total Reward: 191.03\n",
      "Episode 2, Total Reward: -23.47\n",
      "Episode 3, Total Reward: 174.32\n",
      "Episode 4, Total Reward: -125.79\n",
      "Episode 5, Total Reward: 234.08\n"
     ]
    },
    {
     "ename": "",
     "evalue": "",
     "output_type": "error",
     "traceback": [
      "\u001b[1;31mThe Kernel crashed while executing code in the current cell or a previous cell. \n",
      "\u001b[1;31mPlease review the code in the cell(s) to identify a possible cause of the failure. \n",
      "\u001b[1;31mClick <a href='https://aka.ms/vscodeJupyterKernelCrash'>here</a> for more info. \n",
      "\u001b[1;31mView Jupyter <a href='command:jupyter.viewOutput'>log</a> for further details."
     ]
    }
   ],
   "source": [
    "visualize_policy(trained_agent)"
   ]
  },
  {
   "cell_type": "markdown",
   "metadata": {},
   "source": [
    "5. How does the REINFORCE algorithm perform? is it good? bad? Can you improve the algorithm?"
   ]
  },
  {
   "cell_type": "markdown",
   "metadata": {},
   "source": [
    "In my opinion, the REINFORCE algorithm performs well in this environment. It's able to learn a policy that is able to land the lunar lander safely on the moon. However, it takes a long time to converge, and the variance of the reward is high.\n",
    "\n",
    "As for the improveements, I think we can add baselines to the reward-to-go to reduce the variance of the reward, which we will do in the next part."
   ]
  },
  {
   "cell_type": "markdown",
   "metadata": {},
   "source": [
    "# 2 REINFORCE with BASELINE\n",
    "\n",
    "Now we will look at a way to improve the algorithm. Instead of using the reward as it is, we will subtract a baseline. Normally we use the state value function $V^\\pi(s)$ as a baseline. In this part of the homework, we will also use value function as a baseline."
   ]
  },
  {
   "cell_type": "markdown",
   "metadata": {},
   "source": [
    "1. We will use NN to fit learn the value function. Implement a NN with 3 layers and hidden dimension 128."
   ]
  },
  {
   "cell_type": "code",
   "execution_count": 21,
   "metadata": {},
   "outputs": [],
   "source": [
    "class ValueNetwork(nn.Module):\n",
    "    def __init__(self, input_dim):\n",
    "        super(ValueNetwork, self).__init__()\n",
    "        self.layer1 = nn.Linear(input_dim, 128)\n",
    "        self.layer2 = nn.Linear(128, 128)\n",
    "        self.layer3 = nn.Linear(128, 1)\n",
    "        \n",
    "    def forward(self, x):\n",
    "        x = torch.relu(self.layer1(x))\n",
    "        x = torch.relu(self.layer2(x))\n",
    "        x = self.layer3(x)\n",
    "        return x"
   ]
  },
  {
   "cell_type": "markdown",
   "metadata": {},
   "source": [
    "2. Implement the REINFORCE with baseline agent. (Fill in the blank)"
   ]
  },
  {
   "cell_type": "code",
   "execution_count": 20,
   "metadata": {},
   "outputs": [],
   "source": [
    "class REINFORCEAgentWithBaseline:\n",
    "    def __init__(self, policy_network, value_network, policy_lr, value_lr):\n",
    "        self.policy_network = policy_network\n",
    "        self.value_network = value_network\n",
    "        self.policy_optimizer = optim.Adam(self.policy_network.parameters(), lr=policy_lr)\n",
    "        self.value_optimizer = optim.Adam(self.value_network.parameters(), lr=value_lr)\n",
    "        self.value_criterion = nn.MSELoss()\n",
    "\n",
    "    def select_action(self, state):\n",
    "        state = torch.tensor(state, dtype=torch.float32)\n",
    "        probs = self.policy_network(state)\n",
    "        m = Categorical(probs)\n",
    "        action = m.sample()\n",
    "        return action.item(), m.log_prob(action)\n",
    "\n",
    "    def update(self, rewards, log_probs, states):\n",
    "        # Calculate returns\n",
    "        returns = []\n",
    "        G = 0\n",
    "\n",
    "        for r in reversed(rewards):\n",
    "            G = r + G\n",
    "            returns.insert(0, G)\n",
    "        returns = torch.tensor(returns, dtype=torch.float32)\n",
    "        \n",
    "        returns = (returns - returns.mean()) / (returns.std() + 1e-9)\n",
    "\n",
    "        # Convert states to tensor\n",
    "        states = torch.tensor(states, dtype=torch.float32)\n",
    "\n",
    "        # Calculate value estimates and update value network\n",
    "        values = self.value_network(states).squeeze()\n",
    "        value_loss = self.value_criterion(values, returns)\n",
    "        \n",
    "        self.value_optimizer.zero_grad()\n",
    "        value_loss.backward()\n",
    "        torch.nn.utils.clip_grad_norm_(self.value_network.parameters(), max_norm=1.0)\n",
    "        self.value_optimizer.step()\n",
    "\n",
    "        # Calculate policy loss with baseline\n",
    "        advantages = returns - values.detach()\n",
    "        policy_loss = []\n",
    "        for log_prob, advantage in zip(log_probs, advantages):\n",
    "            policy_loss.append(-log_prob * advantage)\n",
    "        \n",
    "        policy_loss = torch.stack(policy_loss).sum()\n",
    "        \n",
    "        # Update policy network\n",
    "        self.policy_optimizer.zero_grad()\n",
    "        policy_loss.backward()\n",
    "        torch.nn.utils.clip_grad_norm_(self.policy_network.parameters(), max_norm=1.0)\n",
    "        self.policy_optimizer.step()"
   ]
  },
  {
   "cell_type": "markdown",
   "metadata": {},
   "source": [
    "3. Complete the train loop (Fill in the blank)"
   ]
  },
  {
   "cell_type": "code",
   "execution_count": 22,
   "metadata": {},
   "outputs": [],
   "source": [
    "def train(num_episodes, max_steps):\n",
    "    policy_network = PolicyNetwork(input_dim, output_dim)\n",
    "    value_network = ValueNetwork(input_dim)\n",
    "    agent = REINFORCEAgentWithBaseline(policy_network, value_network, policy_lr=5e-4, value_lr=5e-4)\n",
    "    \n",
    "    episode_rewards = []\n",
    "    best_avg_reward = float('-inf')\n",
    "    patience = 100  # Number of episodes to wait for improvement\n",
    "    episodes_without_improvement = 0\n",
    "    \n",
    "    for episode in tqdm(range(num_episodes)):\n",
    "        state, _ = env.reset()\n",
    "        episode_reward = 0\n",
    "        log_probs = []\n",
    "        rewards = []\n",
    "        states = []\n",
    "        \n",
    "        for step in range(max_steps):\n",
    "            states.append(state)\n",
    "            action, log_prob = agent.select_action(state)\n",
    "            next_state, reward, done, truncated, _ = env.step(action)\n",
    "            \n",
    "            log_probs.append(log_prob)\n",
    "            rewards.append(reward)\n",
    "            episode_reward += reward\n",
    "            \n",
    "            if done or truncated:\n",
    "                break\n",
    "            \n",
    "            state = next_state\n",
    "        \n",
    "        episode_rewards.append(episode_reward)\n",
    "        agent.update(rewards, log_probs, states)\n",
    "        \n",
    "        if (episode + 1) % 100 == 0:\n",
    "            avg_reward = np.mean(episode_rewards[-50:])\n",
    "            print(f\"Episode {episode + 1}, Average Reward: {avg_reward:.2f}\")\n",
    "            \n",
    "            if avg_reward > best_avg_reward:\n",
    "                best_avg_reward = avg_reward\n",
    "                episodes_without_improvement = 0\n",
    "            else:\n",
    "                episodes_without_improvement += 1\n",
    "            \n",
    "            if episodes_without_improvement >= patience:\n",
    "                print(f\"Early stopping at episode {episode + 1}\")\n",
    "                break\n",
    "    \n",
    "    return agent, episode_rewards"
   ]
  },
  {
   "cell_type": "code",
   "execution_count": 23,
   "metadata": {},
   "outputs": [
    {
     "name": "stderr",
     "output_type": "stream",
     "text": [
      "  4%|▎         | 108/3000 [00:02<01:11, 40.34it/s]"
     ]
    },
    {
     "name": "stdout",
     "output_type": "stream",
     "text": [
      "Episode 100, Average Reward: -166.01\n"
     ]
    },
    {
     "name": "stderr",
     "output_type": "stream",
     "text": [
      "  7%|▋         | 205/3000 [00:05<01:18, 35.77it/s]"
     ]
    },
    {
     "name": "stdout",
     "output_type": "stream",
     "text": [
      "Episode 200, Average Reward: -158.86\n"
     ]
    },
    {
     "name": "stderr",
     "output_type": "stream",
     "text": [
      " 10%|█         | 303/3000 [00:08<01:20, 33.34it/s]"
     ]
    },
    {
     "name": "stdout",
     "output_type": "stream",
     "text": [
      "Episode 300, Average Reward: -135.48\n"
     ]
    },
    {
     "name": "stderr",
     "output_type": "stream",
     "text": [
      " 13%|█▎        | 402/3000 [00:12<01:56, 22.26it/s]"
     ]
    },
    {
     "name": "stdout",
     "output_type": "stream",
     "text": [
      "Episode 400, Average Reward: -97.73\n"
     ]
    },
    {
     "name": "stderr",
     "output_type": "stream",
     "text": [
      " 17%|█▋        | 506/3000 [00:16<01:26, 28.73it/s]"
     ]
    },
    {
     "name": "stdout",
     "output_type": "stream",
     "text": [
      "Episode 500, Average Reward: -76.44\n"
     ]
    },
    {
     "name": "stderr",
     "output_type": "stream",
     "text": [
      " 20%|██        | 602/3000 [00:21<02:37, 15.20it/s]"
     ]
    },
    {
     "name": "stdout",
     "output_type": "stream",
     "text": [
      "Episode 600, Average Reward: -58.94\n"
     ]
    },
    {
     "name": "stderr",
     "output_type": "stream",
     "text": [
      " 23%|██▎       | 699/3000 [00:29<03:48, 10.07it/s]"
     ]
    },
    {
     "name": "stdout",
     "output_type": "stream",
     "text": [
      "Episode 700, Average Reward: -56.04\n"
     ]
    },
    {
     "name": "stderr",
     "output_type": "stream",
     "text": [
      " 27%|██▋       | 801/3000 [00:43<04:08,  8.83it/s]"
     ]
    },
    {
     "name": "stdout",
     "output_type": "stream",
     "text": [
      "Episode 800, Average Reward: -118.53\n"
     ]
    },
    {
     "name": "stderr",
     "output_type": "stream",
     "text": [
      " 30%|███       | 901/3000 [00:58<02:41, 12.96it/s]"
     ]
    },
    {
     "name": "stdout",
     "output_type": "stream",
     "text": [
      "Episode 900, Average Reward: -78.96\n"
     ]
    },
    {
     "name": "stderr",
     "output_type": "stream",
     "text": [
      " 33%|███▎      | 1000/3000 [01:16<08:37,  3.87it/s]"
     ]
    },
    {
     "name": "stdout",
     "output_type": "stream",
     "text": [
      "Episode 1000, Average Reward: -49.44\n"
     ]
    },
    {
     "name": "stderr",
     "output_type": "stream",
     "text": [
      " 37%|███▋      | 1100/3000 [01:35<05:50,  5.42it/s]"
     ]
    },
    {
     "name": "stdout",
     "output_type": "stream",
     "text": [
      "Episode 1100, Average Reward: -42.60\n"
     ]
    },
    {
     "name": "stderr",
     "output_type": "stream",
     "text": [
      " 40%|███▉      | 1199/3000 [01:52<07:15,  4.14it/s]"
     ]
    },
    {
     "name": "stdout",
     "output_type": "stream",
     "text": [
      "Episode 1200, Average Reward: -82.52\n"
     ]
    },
    {
     "name": "stderr",
     "output_type": "stream",
     "text": [
      " 43%|████▎     | 1300/3000 [02:14<04:56,  5.73it/s]"
     ]
    },
    {
     "name": "stdout",
     "output_type": "stream",
     "text": [
      "Episode 1300, Average Reward: -88.65\n"
     ]
    },
    {
     "name": "stderr",
     "output_type": "stream",
     "text": [
      " 47%|████▋     | 1401/3000 [02:34<03:37,  7.36it/s]"
     ]
    },
    {
     "name": "stdout",
     "output_type": "stream",
     "text": [
      "Episode 1400, Average Reward: -29.53\n"
     ]
    },
    {
     "name": "stderr",
     "output_type": "stream",
     "text": [
      " 50%|████▉     | 1499/3000 [02:54<05:03,  4.95it/s]"
     ]
    },
    {
     "name": "stdout",
     "output_type": "stream",
     "text": [
      "Episode 1500, Average Reward: -16.69\n"
     ]
    },
    {
     "name": "stderr",
     "output_type": "stream",
     "text": [
      " 53%|█████▎    | 1600/3000 [03:13<04:08,  5.64it/s]"
     ]
    },
    {
     "name": "stdout",
     "output_type": "stream",
     "text": [
      "Episode 1600, Average Reward: -62.65\n"
     ]
    },
    {
     "name": "stderr",
     "output_type": "stream",
     "text": [
      " 57%|█████▋    | 1699/3000 [03:35<05:03,  4.29it/s]"
     ]
    },
    {
     "name": "stdout",
     "output_type": "stream",
     "text": [
      "Episode 1700, Average Reward: -27.92\n"
     ]
    },
    {
     "name": "stderr",
     "output_type": "stream",
     "text": [
      " 60%|██████    | 1800/3000 [03:57<04:38,  4.31it/s]"
     ]
    },
    {
     "name": "stdout",
     "output_type": "stream",
     "text": [
      "Episode 1800, Average Reward: -46.61\n"
     ]
    },
    {
     "name": "stderr",
     "output_type": "stream",
     "text": [
      " 63%|██████▎   | 1900/3000 [04:17<05:06,  3.58it/s]"
     ]
    },
    {
     "name": "stdout",
     "output_type": "stream",
     "text": [
      "Episode 1900, Average Reward: -26.45\n"
     ]
    },
    {
     "name": "stderr",
     "output_type": "stream",
     "text": [
      " 67%|██████▋   | 2000/3000 [04:39<02:49,  5.89it/s]"
     ]
    },
    {
     "name": "stdout",
     "output_type": "stream",
     "text": [
      "Episode 2000, Average Reward: -47.80\n"
     ]
    },
    {
     "name": "stderr",
     "output_type": "stream",
     "text": [
      " 70%|███████   | 2101/3000 [05:00<02:29,  6.02it/s]"
     ]
    },
    {
     "name": "stdout",
     "output_type": "stream",
     "text": [
      "Episode 2100, Average Reward: -19.72\n"
     ]
    },
    {
     "name": "stderr",
     "output_type": "stream",
     "text": [
      " 73%|███████▎  | 2200/3000 [05:25<03:36,  3.70it/s]"
     ]
    },
    {
     "name": "stdout",
     "output_type": "stream",
     "text": [
      "Episode 2200, Average Reward: -37.94\n"
     ]
    },
    {
     "name": "stderr",
     "output_type": "stream",
     "text": [
      " 77%|███████▋  | 2300/3000 [05:50<02:36,  4.47it/s]"
     ]
    },
    {
     "name": "stdout",
     "output_type": "stream",
     "text": [
      "Episode 2300, Average Reward: -17.01\n"
     ]
    },
    {
     "name": "stderr",
     "output_type": "stream",
     "text": [
      " 80%|████████  | 2400/3000 [06:11<02:52,  3.47it/s]"
     ]
    },
    {
     "name": "stdout",
     "output_type": "stream",
     "text": [
      "Episode 2400, Average Reward: 14.72\n"
     ]
    },
    {
     "name": "stderr",
     "output_type": "stream",
     "text": [
      " 83%|████████▎ | 2500/3000 [06:38<02:14,  3.71it/s]"
     ]
    },
    {
     "name": "stdout",
     "output_type": "stream",
     "text": [
      "Episode 2500, Average Reward: -6.92\n"
     ]
    },
    {
     "name": "stderr",
     "output_type": "stream",
     "text": [
      " 87%|████████▋ | 2600/3000 [07:02<02:03,  3.24it/s]"
     ]
    },
    {
     "name": "stdout",
     "output_type": "stream",
     "text": [
      "Episode 2600, Average Reward: -2.09\n"
     ]
    },
    {
     "name": "stderr",
     "output_type": "stream",
     "text": [
      " 90%|█████████ | 2700/3000 [07:25<01:20,  3.72it/s]"
     ]
    },
    {
     "name": "stdout",
     "output_type": "stream",
     "text": [
      "Episode 2700, Average Reward: 59.33\n"
     ]
    },
    {
     "name": "stderr",
     "output_type": "stream",
     "text": [
      " 93%|█████████▎| 2800/3000 [07:52<00:49,  4.03it/s]"
     ]
    },
    {
     "name": "stdout",
     "output_type": "stream",
     "text": [
      "Episode 2800, Average Reward: 63.80\n"
     ]
    },
    {
     "name": "stderr",
     "output_type": "stream",
     "text": [
      " 97%|█████████▋| 2900/3000 [08:11<00:16,  6.00it/s]"
     ]
    },
    {
     "name": "stdout",
     "output_type": "stream",
     "text": [
      "Episode 2900, Average Reward: 53.14\n"
     ]
    },
    {
     "name": "stderr",
     "output_type": "stream",
     "text": [
      "100%|██████████| 3000/3000 [08:30<00:00,  5.87it/s]\n"
     ]
    },
    {
     "name": "stdout",
     "output_type": "stream",
     "text": [
      "Episode 3000, Average Reward: 52.89\n"
     ]
    },
    {
     "data": {
      "image/png": "[encoded data removed]",
      "text/plain": [
       "<Figure size 1000x500 with 1 Axes>"
      ]
     },
     "metadata": {},
     "output_type": "display_data"
    }
   ],
   "source": [
    "num_episodes = 3000\n",
    "max_steps = 1000\n",
    "trained_agent, episode_rewards = train(num_episodes, max_steps)\n",
    "\n",
    "# Plot learning curve\n",
    "plt.figure(figsize=(10, 5))\n",
    "plt.plot(episode_rewards)\n",
    "plt.title(\"Average reward of the last 50 steps (REINFORCE with Baseline)\")\n",
    "plt.xlabel(\"Episode\")\n",
    "plt.ylabel(\"Total Reward\")\n",
    "plt.show()"
   ]
  },
  {
   "cell_type": "markdown",
   "metadata": {},
   "source": [
    "Play with the visualization! How does your agent perform now?"
   ]
  },
  {
   "cell_type": "code",
   "execution_count": 26,
   "metadata": {},
   "outputs": [
    {
     "name": "stdout",
     "output_type": "stream",
     "text": [
      "Episode 1, Total Reward: 258.26\n",
      "Episode 2, Total Reward: -125.37\n",
      "Episode 3, Total Reward: 8.09\n",
      "Episode 4, Total Reward: 78.53\n",
      "Episode 5, Total Reward: 153.21\n"
     ]
    },
    {
     "ename": "",
     "evalue": "",
     "output_type": "error",
     "traceback": [
      "\u001b[1;31mThe Kernel crashed while executing code in the current cell or a previous cell. \n",
      "\u001b[1;31mPlease review the code in the cell(s) to identify a possible cause of the failure. \n",
      "\u001b[1;31mClick <a href='https://aka.ms/vscodeJupyterKernelCrash'>here</a> for more info. \n",
      "\u001b[1;31mView Jupyter <a href='command:jupyter.viewOutput'>log</a> for further details."
     ]
    }
   ],
   "source": [
    "visualize_policy(trained_agent)"
   ]
  },
  {
   "cell_type": "markdown",
   "metadata": {},
   "source": [
    "It performs better than the REINFORCE without baseline, especially from the stableness perspective. On the contrary, it takes longer to converge."
   ]
  },
  {
   "cell_type": "markdown",
   "metadata": {},
   "source": [
    "4. How does this method compare to the VPG? Is it better? If so, in what way? Can you think of a way to improve even further?"
   ]
  },
  {
   "cell_type": "markdown",
   "metadata": {},
   "source": [
    "In terms of the performance, it performs better than the VPG. From the stability perspective, it's more stable than the REINFORCE without baseline. However, it takes longer to converge. I think the possible reason is that the policy network and value network are optimized alternatively in the training process, which may take longer to converge.\n",
    "\n",
    "As for the improvement, I think there are several directions:\n",
    "1. Use better baselines, like the Q-value function.\n",
    "2. Switch to the actor-critic framework.\n",
    "3. Use A3C or other multi-agent frameworks to optimize the policy and value functions."
   ]
  },
  {
   "cell_type": "markdown",
   "metadata": {},
   "source": [
    "## Theory"
   ]
  },
  {
   "cell_type": "markdown",
   "metadata": {},
   "source": [
    "We have explored basic policy gradient methods, and we have empirically showed that the methods work in some settings. However, do we have some theoretical results about policy gradient? YES! We will be proving the following lemma.\n",
    "\n",
    "**Performance Difference Lemma**\n",
    "\n",
    "Consider an infinite horizon MDP $\\mathcal{M} = \\{\\mathcal{S},\\mathcal{A},r,P,\\gamma\\}$. Consider any two policies $\\pi,\\pi':\\mathcal{S}\\to\\Delta(\\mathcal{A})$. Then, for any state $s_0\\in\\mathcal{S}$, we have\n",
    "$$V^{\\pi}(s_0)-V^{\\pi'}(s_0) = \\frac{1}{1-\\gamma}\\mathbb{E}_{s\\sim d^{\\pi}_{s_0}}\\left[\\mathbb{E}_{a\\sim\\pi(\\cdot|s)}A^{\\pi'}(s,a)\\right].$$\n",
    "where \n",
    "- $A^{\\pi'}(s,a) = Q^{\\pi'}(s,a)-V^{\\pi'}(s)$\n",
    "- $P_h^\\pi(s,a;s_0)$ is the probability of $\\pi$ reaching (s,a) at time step $h$ starting at $s_0$.\n",
    "- $P_h^\\pi(s;s_0) = \\sum_a P_h^\\pi(s,a;s_0)$.\n",
    "- $d^{\\pi}_{s_0}(s,a)\\coloneqq(1-\\gamma)\\sum_{h=0}^\\infty\\gamma^h P_h^\\pi(s,a;s_0)$ (state-action visitation distribution)\n",
    "\n",
    "The lemma is widely used to analyze the convergence of on-policy methods!"
   ]
  },
  {
   "cell_type": "markdown",
   "metadata": {},
   "source": [
    "### Questions\n",
    "1. Prove that $d^{\\pi}_{s_0}(s,a)$ is a probability distribution.\n",
    "\n",
    "Now, instead of proving the infinite horizon case, we will be proving a finite horizon MDP $\\mathcal{M} = \\{\\mathcal{S},\\mathcal{A},r,P,H,s_0\\}$.\\\n",
    "In finite horizon case, the PDL becomes following:\\\n",
    "Consider a finite horizon MDP $\\mathcal{M} = \\{\\mathcal{S},\\mathcal{A},r,P,H,s_0\\}$. Consider any two policies $\\pi,\\pi':\\mathcal{S}\\to\\Delta(\\mathcal{A})$. Then, for any state $s_0\\in\\mathcal{S}$, we have\n",
    "$$V^{\\pi}(s_0)-V^{\\pi'}(s_0) = \\sum_{h=0}^{H-1}\\left[\\mathbb{E}_{s_h,a_h\\sim P_h^\\pi(\\cdot,\\cdot;s_0)}A^{\\pi'}(s,a)\\right],$$\n",
    "\n",
    "Note that in a finite horizon case, we do not have convergence issue. So we will not be considering the discount factor. i.e. set $\\gamma=1$.\n",
    "\n",
    "2. Note that we need some adjustments to the state-action visitation distribution. How would you define the state-action visitation distribution in finite horizon MDP?\\\n",
    "(You will need to show two things to prove what you suggest is a probability distribution: 1. non-negativity and 2. sums up to 1 over the support).\n",
    "3. Prove the PDL for finite horizon MDP"
   ]
  },
  {
   "cell_type": "markdown",
   "metadata": {},
   "source": [
    "### Q1: Prove that $d^{\\pi}_{s_0}(s,a)$ is a probability distribution."
   ]
  },
  {
   "cell_type": "markdown",
   "metadata": {},
   "source": [
    "We need to show that $d_{s_0}^\\pi(s,a) := (1-\\gamma)\\sum_{h=0}^\\infty \\gamma^h P_h^\\pi(s,a;s_0)$ is a probability distribution.\n",
    "\n",
    "#### 1. Non-negativity\n",
    "\n",
    "First, let's prove that $d_{s_0}^\\pi(s,a) \\geq 0$ for all $(s,a)$.\n",
    "\n",
    "- $\\gamma \\in [0,1)$, so $(1-\\gamma) > 0$\n",
    "- $P_h^\\pi(s,a;s_0) \\geq 0$ for all $h, s, a, s_0$ (as it's a probability)\n",
    "- $\\gamma^h \\geq 0$ for all $h \\geq 0$\n",
    "\n",
    "Therefore, each term in the sum is non-negative, and the sum of non-negative terms is non-negative. Thus, $d_{s_0}^\\pi(s,a) \\geq 0$ for all $(s,a)$.\n",
    "\n",
    "#### 2. Sums to 1 over its support\n",
    "\n",
    "Now, let's prove that $\\sum_{s,a} d_{s_0}^\\pi(s,a) = 1$.\n",
    "\n",
    "$$\n",
    "\\begin{aligned}\n",
    "\\sum_{s,a} d_{s_0}^\\pi(s,a) &= \\sum_{s,a} (1-\\gamma)\\sum_{h=0}^\\infty\\gamma^h P_h^\\pi(s,a;s_0) \\\\\n",
    "&= (1-\\gamma)\\sum_{h=0}^\\infty\\gamma^h \\sum_{s,a} P_h^\\pi(s,a;s_0) \\\\\n",
    "&= (1-\\gamma)\\sum_{h=0}^\\infty\\gamma^h \\cdot 1 \\quad \\text{(since } \\sum_{s,a} P_h^\\pi(s,a;s_0) = 1 \\text{ for any } h\\text{)} \\\\\n",
    "&= (1-\\gamma)\\sum_{h=0}^\\infty\\gamma^h \\\\\n",
    "&= (1-\\gamma) \\cdot \\frac{1}{1-\\gamma} \\quad \\text{(sum of geometric series)} \\\\\n",
    "&= 1\n",
    "\\end{aligned}\n",
    "$$\n",
    "\n",
    "Therefore, $d_{s_0}^\\pi(s,a)$ sums to 1 over all $(s,a)$.\n",
    "\n",
    "Since $d_{s_0}^\\pi(s,a)$ satisfies both non-negativity and sums to 1 over its support, we have proven that it is indeed a probability distribution."
   ]
  },
  {
   "cell_type": "markdown",
   "metadata": {},
   "source": [
    "### Q2: Note that we need some adjustments to the state-action visitation distribution. How would you define the state-action visitation distribution in finite horizon MDP? (You will need to show two things to prove what you suggest is a probability distribution: 1. non-negativity and 2. sums up to 1 over the support)."
   ]
  },
  {
   "cell_type": "markdown",
   "metadata": {},
   "source": [
    "Let's define the state-action visitation distribution for a finite horizon MDP with horizon H as:\n",
    "\n",
    "$$d_{s_0}^\\pi(s,a) := \\frac{1}{H} \\sum_{h=0}^{H-1} P_h^\\pi(s,a;s_0)$$\n",
    "\n",
    "To prove that this is a probability distribution, we need to show two things:\n",
    "\n",
    "#### 1. Non-negativity\n",
    "\n",
    "$d_{s_0}^\\pi(s,a) \\geq 0$ for all $(s,a)$ because:\n",
    "- $\\frac{1}{H} > 0$ (since H is a positive integer)\n",
    "- $P_h^\\pi(s,a;s_0) \\geq 0$ for all $h, s, a, s_0$ (as it's a probability)\n",
    "- The sum of non-negative terms is non-negative\n",
    "\n",
    "#### 2. Sums to 1 over its support\n",
    "\n",
    "Let's prove that $\\sum_{s,a} d_{s_0}^\\pi(s,a) = 1$:\n",
    "\n",
    "$$\n",
    "\\begin{aligned}\n",
    "\\sum_{s,a} d_{s_0}^\\pi(s,a) &= \\sum_{s,a} \\frac{1}{H} \\sum_{h=0}^{H-1} P_h^\\pi(s,a;s_0) \\\\\n",
    "&= \\frac{1}{H} \\sum_{h=0}^{H-1} \\sum_{s,a} P_h^\\pi(s,a;s_0) \\\\\n",
    "&= \\frac{1}{H} \\sum_{h=0}^{H-1} 1 \\quad \\text{(since } \\sum_{s,a} P_h^\\pi(s,a;s_0) = 1 \\text{ for any } h\\text{)} \\\\\n",
    "&= \\frac{1}{H} \\cdot H \\\\\n",
    "&= 1\n",
    "\\end{aligned}\n",
    "$$\n",
    "\n",
    "Therefore, $d_{s_0}^\\pi(s,a)$ sums to 1 over all $(s,a)$.\n",
    "\n",
    "Since $d_{s_0}^\\pi(s,a)$ satisfies both non-negativity and sums to 1 over its support, we have proven that it is indeed a probability distribution for the finite horizon case."
   ]
  },
  {
   "cell_type": "markdown",
   "metadata": {},
   "source": [
    "### Q3: Prove the PDL for finite horizon MDP"
   ]
  },
  {
   "cell_type": "markdown",
   "metadata": {},
   "source": [
    "Consider a finite horizon MDP $\\mathcal{M} = \\{\\mathcal{S},\\mathcal{A},r,P,H,s_0\\}$. Consider any two policies $\\pi,\\pi':\\mathcal{S}\\to\\Delta(\\mathcal{A})$. Then, for any state $s_0\\in\\mathcal{S}$, we have:\n",
    "\n",
    "$$V^{\\pi}(s_0)-V^{\\pi'}(s_0) = \\sum_{h=0}^{H-1}\\left[\\mathbb{E}_{s_h,a_h\\sim P_h^\\pi(\\cdot,\\cdot;s_0)}A^{\\pi'}(s_h,a_h)\\right]$$\n",
    "\n",
    "Where $A^{\\pi'}(s,a) = Q^{\\pi'}(s,a) - V^{\\pi'}(s)$ is the advantage function under policy $\\pi'$.\n",
    "\n",
    "Proof:\n",
    "\n",
    "1) We start by expanding $V^{\\pi}(s_0)$ using the definition of value function:\n",
    "\n",
    "   $$V^{\\pi}(s_0) = \\mathbb{E}_{a_0\\sim\\pi(\\cdot|s_0)}\\left[r(s_0,a_0) + \\mathbb{E}_{s_1\\sim P(\\cdot|s_0,a_0)}V^{\\pi}(s_1)\\right]$$\n",
    "\n",
    "2) Then, we can subtract $V^{\\pi'}(s_0)$ from both sides:\n",
    "\n",
    "   $$V^{\\pi}(s_0) - V^{\\pi'}(s_0) = \\mathbb{E}_{a_0\\sim\\pi(\\cdot|s_0)}\\left[r(s_0,a_0) + \\mathbb{E}_{s_1\\sim P(\\cdot|s_0,a_0)}V^{\\pi}(s_1)\\right] - V^{\\pi'}(s_0)$$\n",
    "\n",
    "3) We can add and subtract $\\mathbb{E}_{a_0\\sim\\pi(\\cdot|s_0)}\\mathbb{E}_{s_1\\sim P(\\cdot|s_0,a_0)}V^{\\pi'}(s_1)$ to the right-hand side:\n",
    "\n",
    "   $$\\begin{aligned}\n",
    "   V^{\\pi}(s_0) - V^{\\pi'}(s_0) = &\\mathbb{E}_{a_0\\sim\\pi(\\cdot|s_0)}\\left[r(s_0,a_0) + \\mathbb{E}_{s_1\\sim P(\\cdot|s_0,a_0)}V^{\\pi'}(s_1)\\right] - V^{\\pi'}(s_0) \\\\\n",
    "   &+ \\mathbb{E}_{a_0\\sim\\pi(\\cdot|s_0)}\\mathbb{E}_{s_1\\sim P(\\cdot|s_0,a_0)}\\left[V^{\\pi}(s_1) - V^{\\pi'}(s_1)\\right]\n",
    "   \\end{aligned}$$\n",
    "\n",
    "4) The first two terms on the right-hand side can be rewritten using the definition of $Q^{\\pi'}$:\n",
    "\n",
    "   $$\\begin{aligned}\n",
    "   V^{\\pi}(s_0) - V^{\\pi'}(s_0) = &\\mathbb{E}_{a_0\\sim\\pi(\\cdot|s_0)}\\left[Q^{\\pi'}(s_0,a_0) - V^{\\pi'}(s_0)\\right] \\\\\n",
    "   &+ \\mathbb{E}_{a_0\\sim\\pi(\\cdot|s_0)}\\mathbb{E}_{s_1\\sim P(\\cdot|s_0,a_0)}\\left[V^{\\pi}(s_1) - V^{\\pi'}(s_1)\\right]\n",
    "   \\end{aligned}$$\n",
    "\n",
    "5) We can recognize the advantage function $A^{\\pi'}(s_0,a_0) = Q^{\\pi'}(s_0,a_0) - V^{\\pi'}(s_0)$ in the first term:\n",
    "\n",
    "   $$V^{\\pi}(s_0) - V^{\\pi'}(s_0) = \\mathbb{E}_{a_0\\sim\\pi(\\cdot|s_0)}\\left[A^{\\pi'}(s_0,a_0)\\right] + \\mathbb{E}_{s_1\\sim P_1^\\pi(\\cdot;s_0)}\\left[V^{\\pi}(s_1) - V^{\\pi'}(s_1)\\right]$$\n",
    "\n",
    "6) We can repeat this process for $s_1, s_2, ..., s_{H-1}$. For the finite horizon case, this process terminates after H steps:\n",
    "\n",
    "   $$\\begin{aligned}\n",
    "   V^{\\pi}(s_0) - V^{\\pi'}(s_0) = &\\mathbb{E}_{a_0\\sim\\pi(\\cdot|s_0)}\\left[A^{\\pi'}(s_0,a_0)\\right] \\\\\n",
    "   &+ \\mathbb{E}_{s_1,a_1\\sim P_1^\\pi(\\cdot,\\cdot;s_0)}\\left[A^{\\pi'}(s_1,a_1)\\right] \\\\\n",
    "   &+ \\mathbb{E}_{s_2,a_2\\sim P_2^\\pi(\\cdot,\\cdot;s_0)}\\left[A^{\\pi'}(s_2,a_2)\\right] \\\\\n",
    "   &+ ... \\\\\n",
    "   &+ \\mathbb{E}_{s_{H-1},a_{H-1}\\sim P_{H-1}^\\pi(\\cdot,\\cdot;s_0)}\\left[A^{\\pi'}(s_{H-1},a_{H-1})\\right]\n",
    "   \\end{aligned}$$\n",
    "\n",
    "7) This can be written more compactly as:\n",
    "\n",
    "   $$V^{\\pi}(s_0)-V^{\\pi'}(s_0) = \\sum_{h=0}^{H-1}\\left[\\mathbb{E}_{s_h,a_h\\sim P_h^\\pi(\\cdot,\\cdot;s_0)}A^{\\pi'}(s_h,a_h)\\right]$$\n",
    "\n",
    "Thus, we have proven the Performance Difference Lemma for the finite horizon case."
   ]
  },
  {
   "cell_type": "markdown",
   "metadata": {},
   "source": [
    "### Appendix: Sketch of the proof for infinite horizon case\n",
    "\n",
    "Note that the proof is very similar to the infinite horizon case, except that we need to sum over the horizon H instead of infinity. Here is the sketch of the proof:\n",
    "\n",
    "$$\\begin{aligned}\n",
    "& V^\\pi\\left(s_0\\right)-V^{\\pi^{\\prime}}\\left(s_0\\right) \\\\\n",
    "& =V^\\pi\\left(s_0\\right)-\\mathbb{E}_{a_0 \\sim \\pi\\left(\\mid s_0\\right)}\\left[r\\left(s_0, a_0\\right)+\\gamma \\mathbb{E}_{s^{\\prime} \\sim P\\left(s_0, a_0\\right)} V^{\\pi^{\\prime}}\\left(s^{\\prime}\\right)\\right]+\\mathbb{E}_{a_0 \\sim \\pi\\left(\\cdot \\mid s_0\\right)}\\left[r\\left(s_0, a_0\\right)+\\gamma \\mathbb{E}_{s^{\\prime}} \\sim P\\left(s_0, a_0\\right) V^{\\pi^{\\prime}}\\left(s^{\\prime}\\right)\\right]-V^{\\pi^{\\prime}}\\left(s_0\\right) \\\\\n",
    "& =\\mathbb{E}_{a_0 \\sim \\pi\\left(\\mid \\cdot s_0\\right)}\\left[r\\left(s_0, a_0\\right)+\\gamma \\mathbb{E}_{s^{\\prime} \\sim P\\left(s_0, a_0\\right)} V^\\pi\\left(s^{\\prime}\\right)\\right]-\\mathbb{E}_{a_0 \\sim \\pi\\left(\\cdot \\mid s_0\\right)}\\left[r\\left(s_0, a_0\\right)+\\gamma \\mathbb{E}_{s^{\\prime} \\sim P\\left(s_0, a_0\\right)} V^{\\pi^{\\prime}}\\left(s^{\\prime}\\right)\\right] \\\\\n",
    "& +\\mathbb{E}_{a_0 \\sim \\pi\\left(|\\cdot| s_0\\right)}\\left[r\\left(s_0, a_0\\right)+\\gamma \\mathbb{E}_{s^{\\prime} \\sim P\\left(s_0, a_0\\right)} V^{\\pi^{\\prime}}\\left(s^{\\prime}\\right)\\right]-V^{\\pi^{\\prime}}\\left(s_0\\right) \\\\\n",
    "& =\\gamma \\mathbb{E}_{a_0 \\sim \\pi\\left(\\cdot \\mid s_0\\right)} \\mathbb{E}_{s_1 \\sim P\\left(s_0, a_0\\right)}\\left[V^\\pi\\left(s_1\\right)-V^{\\pi^{\\prime}}\\left(s_1\\right)\\right] \\\\\n",
    "& +\\mathbb{E}_{a_0 \\sim \\pi\\left(\\cdot \\mid s_0\\right)}\\left[r\\left(s_0, a_0\\right)+\\gamma \\mathbb{E}_{s^{\\prime} \\sim P\\left(s_0, a_0\\right)} V^{\\pi^{\\prime}}\\left(s^{\\prime}\\right)\\right]-V^{\\pi^{\\prime}}\\left(s_0\\right) \\\\\n",
    "& =\\gamma \\mathbb{E}_{a_0 \\sim \\pi\\left(\\cdot \\mid s_0\\right)} \\mathbb{E}_{s_1 \\sim P\\left(s_0, a_0\\right)}\\left[V^\\pi\\left(s_1\\right)-V^{\\pi^{\\prime}}\\left(s_1\\right)\\right]+\\mathbb{E}_{a_0 \\sim \\pi\\left(| | s_0\\right)}\\left[Q^{\\pi^{\\prime}}\\left(s_0, a_0\\right)-V^{\\pi^{\\prime}}\\left(s_0\\right)\\right] \\\\\n",
    "& =\\underbrace{\\gamma \\mathbb{E}_{a_0 \\sim \\pi\\left(| | s_0\\right)} \\mathbb{E}_{s_1 \\sim P\\left(s_0, a_0\\right)}\\left[V^\\pi\\left(s_1\\right)-V^{\\pi^{\\prime}}\\left(s_1\\right)\\right]}_{\\text {term a }}+\\mathbb{E}_{a_0 \\sim \\pi\\left(| | s_0\\right)}\\left[A^{\\pi^{\\prime}}\\left(s_0, a_0\\right)\\right]\n",
    "\\end{aligned}$$\n",
    "\n",
    "For term a, note that by Markovian property, $\\mathbb{P}^\\pi (s_1; s_0) = \\sum_{a_0} \\pi(a_0|s_0)P(s_1|s_0, a_0) = \\mathbb{E}_{a_0\\sim\\pi(\\cdot|s_0)}P(s_1|s_0, a_0)$,\n",
    "we can apply the same operation (i.e., recursion) for the term $V^\\pi(s_1) - V^{\\pi'}(s_1)$, we have:\n",
    "\n",
    "$$\\begin{aligned}\n",
    "\\text{term a} &= \\gamma\\mathbb{E}_{s_1\\sim\\mathbb{P}_1^\\pi(\\cdot;s_0)} \\left[V^\\pi(s_1) - V^{\\pi'}(s_1)\\right] \\\\\n",
    "&= \\gamma\\mathbb{E}_{s_1\\sim\\mathbb{P}_1^\\pi(\\cdot;s_0)} \\left[\\gamma\\mathbb{E}_{a_1\\sim\\pi(\\cdot|s_1)}\\mathbb{E}_{s_2\\sim P(s_1,a_1)} \\left[V^\\pi(s_2) - V^{\\pi'}(s_2)\\right] + \\mathbb{E}_{a_1\\sim\\pi(\\cdot|s_1)}A^{\\pi'}(s_1, a_1)\\right] \\\\\n",
    "&= \\gamma^2\\mathbb{E}_{s_2\\sim\\mathbb{P}_2^\\pi(\\cdot;s_0)} \\left[V^\\pi(s_2) - V^{\\pi'}(s_2)\\right] + \\gamma\\mathbb{E}_{s_1,a_1\\sim\\mathbb{P}_1^\\pi(\\cdot,\\cdot;s_0)}A^{\\pi'}(s_1, a_1)\n",
    "\\end{aligned}$$\n",
    "\n",
    "where last step we use the Markovian property again, i.e., $\\mathbb{P}_2^\\pi(s; s_0) = \\sum_{s_1,a_1} \\mathbb{P}_1^\\pi(s_1; s_0)\\pi(a_1|s_1)P(s|s_1, a_1)$. Note\n",
    "that at this stage, we can apply the same operation (i.e., recursion) to the term $V^\\pi(s_2) - V^{\\pi'}(s_2)$.\n",
    "\n",
    "Now combine the above derivations, and repeat the recursion step for infinitely many times, we get:\n",
    "\n",
    "$$\\begin{aligned}\n",
    "V^\\pi(s_0) - V^{\\pi'}(s_0) \n",
    "&= \\mathbb{E}_{a_0\\sim\\pi(\\cdot|s_0)}A^{\\pi'}(s_0, a_0) + \\gamma\\mathbb{E}_{s_1,a_1\\sim\\mathbb{P}_1^\\pi(\\cdot,\\cdot;s_0)}A^{\\pi'}(s_1, a_1) + \\gamma^2\\mathbb{E}_{s_2\\sim\\mathbb{P}_2^\\pi(\\cdot;s_0)}[V^\\pi(s_2) - V^{\\pi'}(s_2)] \\\\\n",
    "&\\cdots \\\\\n",
    "&= \\sum_{h=0}^{\\infty}\\gamma^h\\mathbb{E}_{s,a\\sim\\mathbb{P}_h^\\pi(\\cdot,\\cdot;s_0)}A^{\\pi'}(s, a) \\\\\n",
    "&= \\frac{1}{1-\\gamma}\\mathbb{E}_{s,a\\sim d_{s_0}^\\pi}A^{\\pi'}(s, a).\n",
    "\\end{aligned}$$"
   ]
  }
 ],
 "metadata": {
  "kernelspec": {
   "display_name": "llm_agent",
   "language": "python",
   "name": "python3"
  },
  "language_info": {
   "codemirror_mode": {
    "name": "ipython",
    "version": 3
   },
   "file_extension": ".py",
   "mimetype": "text/x-python",
   "name": "python",
   "nbconvert_exporter": "python",
   "pygments_lexer": "ipython3",
   "version": "3.10.11"
  }
 },
 "nbformat": 4,
 "nbformat_minor": 2
}
